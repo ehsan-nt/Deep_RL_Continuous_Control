{
 "cells": [
  {
   "cell_type": "markdown",
   "metadata": {},
   "source": [
    "# Continuous Control\n",
    "\n",
    "---\n",
    "\n",
    "In this notebook, you will learn how to use the Unity ML-Agents environment for the second project of the [Deep Reinforcement Learning Nanodegree](https://www.udacity.com/course/deep-reinforcement-learning-nanodegree--nd893) program.\n",
    "\n",
    "### 1. Start the Environment\n",
    "\n",
    "We begin by importing the necessary packages.  If the code cell below returns an error, please revisit the project instructions to double-check that you have installed [Unity ML-Agents](https://github.com/Unity-Technologies/ml-agents/blob/master/docs/Installation.md) and [NumPy](http://www.numpy.org/)."
   ]
  },
  {
   "cell_type": "code",
   "execution_count": 1,
   "metadata": {},
   "outputs": [],
   "source": [
    "from unityagents import UnityEnvironment\n",
    "import numpy as np\n"
   ]
  },
  {
   "cell_type": "markdown",
   "metadata": {},
   "source": [
    "Next, we will start the environment!  **_Before running the code cell below_**, change the `file_name` parameter to match the location of the Unity environment that you downloaded.\n",
    "\n",
    "- **Mac**: `\"path/to/Reacher.app\"`\n",
    "- **Windows** (x86): `\"path/to/Reacher_Windows_x86/Reacher.exe\"`\n",
    "- **Windows** (x86_64): `\"path/to/Reacher_Windows_x86_64/Reacher.exe\"`\n",
    "- **Linux** (x86): `\"path/to/Reacher_Linux/Reacher.x86\"`\n",
    "- **Linux** (x86_64): `\"path/to/Reacher_Linux/Reacher.x86_64\"`\n",
    "- **Linux** (x86, headless): `\"path/to/Reacher_Linux_NoVis/Reacher.x86\"`\n",
    "- **Linux** (x86_64, headless): `\"path/to/Reacher_Linux_NoVis/Reacher.x86_64\"`\n",
    "\n",
    "For instance, if you are using a Mac, then you downloaded `Reacher.app`.  If this file is in the same folder as the notebook, then the line below should appear as follows:\n",
    "```\n",
    "env = UnityEnvironment(file_name=\"Reacher.app\")\n",
    "```"
   ]
  },
  {
   "cell_type": "code",
   "execution_count": 2,
   "metadata": {},
   "outputs": [
    {
     "name": "stderr",
     "output_type": "stream",
     "text": [
      "INFO:unityagents:\n",
      "'Academy' started successfully!\n",
      "Unity Academy name: Academy\n",
      "        Number of Brains: 1\n",
      "        Number of External Brains : 1\n",
      "        Lesson number : 0\n",
      "        Reset Parameters :\n",
      "\t\tgoal_speed -> 1.0\n",
      "\t\tgoal_size -> 5.0\n",
      "Unity brain name: ReacherBrain\n",
      "        Number of Visual Observations (per agent): 0\n",
      "        Vector Observation space type: continuous\n",
      "        Vector Observation space size (per agent): 33\n",
      "        Number of stacked Vector Observation: 1\n",
      "        Vector Action space type: continuous\n",
      "        Vector Action space size (per agent): 4\n",
      "        Vector Action descriptions: , , , \n"
     ]
    }
   ],
   "source": [
    "env = UnityEnvironment(file_name='Reacher_20/Reacher.exe')"
   ]
  },
  {
   "cell_type": "markdown",
   "metadata": {},
   "source": [
    "Environments contain **_brains_** which are responsible for deciding the actions of their associated agents. Here we check for the first brain available, and set it as the default brain we will be controlling from Python."
   ]
  },
  {
   "cell_type": "code",
   "execution_count": 3,
   "metadata": {},
   "outputs": [],
   "source": [
    "# get the default brain\n",
    "brain_name = env.brain_names[0]\n",
    "brain = env.brains[brain_name]"
   ]
  },
  {
   "cell_type": "markdown",
   "metadata": {},
   "source": [
    "### 2. Examine the State and Action Spaces\n",
    "\n",
    "In this environment, a double-jointed arm can move to target locations. A reward of `+0.1` is provided for each step that the agent's hand is in the goal location. Thus, the goal of your agent is to maintain its position at the target location for as many time steps as possible.\n",
    "\n",
    "The observation space consists of `33` variables corresponding to position, rotation, velocity, and angular velocities of the arm.  Each action is a vector with four numbers, corresponding to torque applicable to two joints.  Every entry in the action vector must be a number between `-1` and `1`.\n",
    "\n",
    "Run the code cell below to print some information about the environment."
   ]
  },
  {
   "cell_type": "code",
   "execution_count": 4,
   "metadata": {},
   "outputs": [
    {
     "name": "stdout",
     "output_type": "stream",
     "text": [
      "Number of agents: 20\n",
      "Size of each action: 4\n",
      "There are 20 agents. Each observes a state with length: 33\n",
      "The state for the first agent looks like: [ 0.00000000e+00 -4.00000000e+00  0.00000000e+00  1.00000000e+00\n",
      " -0.00000000e+00 -0.00000000e+00 -4.37113883e-08  0.00000000e+00\n",
      "  0.00000000e+00  0.00000000e+00  0.00000000e+00  0.00000000e+00\n",
      "  0.00000000e+00  0.00000000e+00 -1.00000000e+01  0.00000000e+00\n",
      "  1.00000000e+00 -0.00000000e+00 -0.00000000e+00 -4.37113883e-08\n",
      "  0.00000000e+00  0.00000000e+00  0.00000000e+00  0.00000000e+00\n",
      "  0.00000000e+00  0.00000000e+00  5.75471878e+00 -1.00000000e+00\n",
      "  5.55726624e+00  0.00000000e+00  1.00000000e+00  0.00000000e+00\n",
      " -1.68164849e-01]\n"
     ]
    }
   ],
   "source": [
    "# reset the environment\n",
    "env_info = env.reset(train_mode=True)[brain_name]\n",
    "\n",
    "# number of agents\n",
    "num_agents = len(env_info.agents)\n",
    "print('Number of agents:', num_agents)\n",
    "\n",
    "# size of each action\n",
    "action_size = brain.vector_action_space_size\n",
    "print('Size of each action:', action_size)\n",
    "\n",
    "# examine the state space \n",
    "states = env_info.vector_observations\n",
    "state_size = states.shape[1]\n",
    "print('There are {} agents. Each observes a state with length: {}'.format(states.shape[0], state_size))\n",
    "print('The state for the first agent looks like:', states[0])"
   ]
  },
  {
   "cell_type": "markdown",
   "metadata": {},
   "source": [
    "### 3. Take Random Actions in the Environment\n",
    "\n",
    "In the next code cell, you will learn how to use the Python API to control the agent and receive feedback from the environment.\n",
    "\n",
    "Once this cell is executed, you will watch the agent's performance, if it selects an action at random with each time step.  A window should pop up that allows you to observe the agent, as it moves through the environment.  \n",
    "\n",
    "Of course, as part of the project, you'll have to change the code so that the agent is able to use its experience to gradually choose better actions when interacting with the environment!"
   ]
  },
  {
   "cell_type": "code",
   "execution_count": 5,
   "metadata": {},
   "outputs": [],
   "source": [
    "# env_info = env.reset(train_mode=False)[brain_name]     # reset the environment    \n",
    "# states = env_info.vector_observations                  # get the current state (for each agent)\n",
    "# scores = np.zeros(num_agents)                          # initialize the score (for each agent)\n",
    "# while True:\n",
    "#     actions = np.random.randn(num_agents, action_size) # select an action (for each agent)\n",
    "#     actions = np.clip(actions, -1, 1)                  # all actions between -1 and 1\n",
    "#     env_info = env.step(actions)[brain_name]           # send all actions to tne environment\n",
    "#     next_states = env_info.vector_observations         # get next state (for each agent)\n",
    "#     rewards = env_info.rewards                         # get reward (for each agent)\n",
    "#     dones = env_info.local_done                        # see if episode finished\n",
    "#     scores += env_info.rewards                         # update the score (for each agent)\n",
    "#     states = next_states                               # roll over states to next time step\n",
    "#     if np.any(dones):                                  # exit loop if episode finished\n",
    "#         break\n",
    "# print('Total score (averaged over agents) this episode: {}'.format(np.mean(scores)))"
   ]
  },
  {
   "cell_type": "markdown",
   "metadata": {},
   "source": [
    "When finished, you can close the environment."
   ]
  },
  {
   "cell_type": "code",
   "execution_count": 6,
   "metadata": {},
   "outputs": [],
   "source": [
    "# env.close()"
   ]
  },
  {
   "cell_type": "markdown",
   "metadata": {},
   "source": [
    "### 4. It's Your Turn!\n",
    "\n",
    "Now it's your turn to train your own agent to solve the environment!  When training the environment, set `train_mode=True`, so that the line for resetting the environment looks like the following:\n",
    "```python\n",
    "env_info = env.reset(train_mode=True)[brain_name]\n",
    "```"
   ]
  },
  {
   "cell_type": "code",
   "execution_count": 7,
   "metadata": {},
   "outputs": [
    {
     "name": "stdout",
     "output_type": "stream",
     "text": [
      "The device is  cuda:0\n"
     ]
    }
   ],
   "source": [
    "import random\n",
    "import torch\n",
    "import numpy as np\n",
    "from collections import deque\n",
    "import matplotlib.pyplot as plt\n",
    "%matplotlib inline\n",
    "from ddpg_agent import Agent\n",
    "import pandas as pd\n",
    "\n",
    "agent = Agent(state_size=state_size, action_size=action_size, num_agents=num_agents, random_seed=4)\n",
    "checkpoint_name = 'checkpoint' # saved model name\n",
    "window_size = 100              # Rolling windows size for score mean"
   ]
  },
  {
   "cell_type": "code",
   "execution_count": 8,
   "metadata": {},
   "outputs": [
    {
     "name": "stderr",
     "output_type": "stream",
     "text": [
      "C:\\Users\\ehsan\\anaconda3\\envs\\drlnd\\lib\\site-packages\\torch\\nn\\functional.py:1628: UserWarning: nn.functional.tanh is deprecated. Use torch.tanh instead.\n",
      "  warnings.warn(\"nn.functional.tanh is deprecated. Use torch.tanh instead.\")\n"
     ]
    },
    {
     "name": "stdout",
     "output_type": "stream",
     "text": [
      "Episode 1\tSingle Agent Score: 0.72\tAverage Score: 0.72\n",
      "Episode 2\tSingle Agent Score: 0.76\tAverage Score: 0.74\n",
      "Episode 3\tSingle Agent Score: 0.49\tAverage Score: 0.66\n",
      "Episode 4\tSingle Agent Score: 0.63\tAverage Score: 0.65\n",
      "Episode 5\tSingle Agent Score: 0.84\tAverage Score: 0.69\n",
      "Episode 6\tSingle Agent Score: 0.76\tAverage Score: 0.70\n",
      "Episode 7\tSingle Agent Score: 0.63\tAverage Score: 0.69\n",
      "Episode 8\tSingle Agent Score: 0.77\tAverage Score: 0.70\n",
      "Episode 9\tSingle Agent Score: 0.85\tAverage Score: 0.72\n",
      "Episode 10\tSingle Agent Score: 1.02\tAverage Score: 0.75\n",
      "Episode 11\tSingle Agent Score: 1.49\tAverage Score: 0.82\n",
      "Episode 12\tSingle Agent Score: 1.63\tAverage Score: 0.88\n",
      "Episode 13\tSingle Agent Score: 1.24\tAverage Score: 0.91\n",
      "Episode 14\tSingle Agent Score: 1.51\tAverage Score: 0.95\n",
      "Episode 15\tSingle Agent Score: 2.04\tAverage Score: 1.03\n",
      "Episode 16\tSingle Agent Score: 2.76\tAverage Score: 1.13\n",
      "Episode 17\tSingle Agent Score: 2.88\tAverage Score: 1.24\n",
      "Episode 18\tSingle Agent Score: 3.05\tAverage Score: 1.34\n",
      "Episode 19\tSingle Agent Score: 4.62\tAverage Score: 1.51\n",
      "Episode 20\tSingle Agent Score: 4.15\tAverage Score: 1.64\n",
      "Episode 21\tSingle Agent Score: 5.04\tAverage Score: 1.80\n",
      "Episode 22\tSingle Agent Score: 5.01\tAverage Score: 1.95\n",
      "Episode 23\tSingle Agent Score: 6.81\tAverage Score: 2.16\n",
      "Episode 24\tSingle Agent Score: 6.31\tAverage Score: 2.33\n",
      "Episode 25\tSingle Agent Score: 8.54\tAverage Score: 2.58\n",
      "Episode 26\tSingle Agent Score: 9.79\tAverage Score: 2.86\n",
      "Episode 27\tSingle Agent Score: 10.39\tAverage Score: 3.14\n",
      "Episode 28\tSingle Agent Score: 9.79\tAverage Score: 3.38\n",
      "Episode 29\tSingle Agent Score: 9.86\tAverage Score: 3.60\n",
      "Episode 30\tSingle Agent Score: 8.16\tAverage Score: 3.75\n",
      "Episode 31\tSingle Agent Score: 10.48\tAverage Score: 3.97\n",
      "Episode 32\tSingle Agent Score: 12.32\tAverage Score: 4.23\n",
      "Episode 33\tSingle Agent Score: 12.79\tAverage Score: 4.49\n",
      "Episode 34\tSingle Agent Score: 13.62\tAverage Score: 4.76\n",
      "Episode 35\tSingle Agent Score: 15.40\tAverage Score: 5.06\n",
      "Episode 36\tSingle Agent Score: 15.10\tAverage Score: 5.34\n",
      "Episode 37\tSingle Agent Score: 17.44\tAverage Score: 5.67\n",
      "Episode 38\tSingle Agent Score: 20.04\tAverage Score: 6.05\n",
      "Episode 39\tSingle Agent Score: 19.05\tAverage Score: 6.38\n",
      "Episode 40\tSingle Agent Score: 20.13\tAverage Score: 6.72\n",
      "Episode 41\tSingle Agent Score: 20.22\tAverage Score: 7.05\n",
      "Episode 42\tSingle Agent Score: 23.63\tAverage Score: 7.45\n",
      "Episode 43\tSingle Agent Score: 25.60\tAverage Score: 7.87\n",
      "Episode 44\tSingle Agent Score: 24.10\tAverage Score: 8.24\n",
      "Episode 45\tSingle Agent Score: 24.30\tAverage Score: 8.59\n",
      "Episode 46\tSingle Agent Score: 25.69\tAverage Score: 8.97\n",
      "Episode 47\tSingle Agent Score: 26.96\tAverage Score: 9.35\n",
      "Episode 48\tSingle Agent Score: 28.65\tAverage Score: 9.75\n",
      "Episode 49\tSingle Agent Score: 28.56\tAverage Score: 10.14\n",
      "Episode 50\tSingle Agent Score: 29.26\tAverage Score: 10.52\n",
      "Episode 51\tSingle Agent Score: 31.45\tAverage Score: 10.93\n",
      "Episode 52\tSingle Agent Score: 31.34\tAverage Score: 11.32\n",
      "Episode 53\tSingle Agent Score: 31.96\tAverage Score: 11.71\n",
      "Episode 54\tSingle Agent Score: 31.70\tAverage Score: 12.08\n",
      "Episode 55\tSingle Agent Score: 33.33\tAverage Score: 12.47\n",
      "Episode 56\tSingle Agent Score: 32.82\tAverage Score: 12.83\n",
      "Episode 57\tSingle Agent Score: 35.20\tAverage Score: 13.22\n",
      "Episode 58\tSingle Agent Score: 35.41\tAverage Score: 13.61\n",
      "Episode 59\tSingle Agent Score: 36.08\tAverage Score: 13.99\n",
      "Episode 60\tSingle Agent Score: 35.80\tAverage Score: 14.35\n",
      "Episode 61\tSingle Agent Score: 36.73\tAverage Score: 14.72\n",
      "Episode 62\tSingle Agent Score: 36.93\tAverage Score: 15.07\n",
      "Episode 63\tSingle Agent Score: 36.79\tAverage Score: 15.42\n",
      "Episode 64\tSingle Agent Score: 36.20\tAverage Score: 15.74\n",
      "Episode 65\tSingle Agent Score: 36.92\tAverage Score: 16.07\n",
      "Episode 66\tSingle Agent Score: 35.42\tAverage Score: 16.36\n",
      "Episode 67\tSingle Agent Score: 37.62\tAverage Score: 16.68\n",
      "Episode 68\tSingle Agent Score: 35.47\tAverage Score: 16.96\n",
      "Episode 69\tSingle Agent Score: 37.02\tAverage Score: 17.25\n",
      "Episode 70\tSingle Agent Score: 36.51\tAverage Score: 17.52\n",
      "Episode 71\tSingle Agent Score: 36.79\tAverage Score: 17.79\n",
      "Episode 72\tSingle Agent Score: 37.49\tAverage Score: 18.07\n",
      "Episode 73\tSingle Agent Score: 37.14\tAverage Score: 18.33\n",
      "Episode 74\tSingle Agent Score: 37.03\tAverage Score: 18.58\n",
      "Episode 75\tSingle Agent Score: 37.08\tAverage Score: 18.83\n",
      "Episode 76\tSingle Agent Score: 37.17\tAverage Score: 19.07\n",
      "Episode 77\tSingle Agent Score: 36.18\tAverage Score: 19.29\n",
      "Episode 78\tSingle Agent Score: 36.47\tAverage Score: 19.51\n",
      "Episode 79\tSingle Agent Score: 35.64\tAverage Score: 19.72\n",
      "Episode 80\tSingle Agent Score: 36.53\tAverage Score: 19.93\n",
      "Episode 81\tSingle Agent Score: 36.67\tAverage Score: 20.13\n",
      "Episode 82\tSingle Agent Score: 37.01\tAverage Score: 20.34\n",
      "Episode 83\tSingle Agent Score: 35.99\tAverage Score: 20.53\n",
      "Episode 84\tSingle Agent Score: 34.95\tAverage Score: 20.70\n",
      "Episode 85\tSingle Agent Score: 35.61\tAverage Score: 20.87\n",
      "Episode 86\tSingle Agent Score: 35.65\tAverage Score: 21.05\n",
      "Episode 87\tSingle Agent Score: 35.04\tAverage Score: 21.21\n",
      "Episode 88\tSingle Agent Score: 36.90\tAverage Score: 21.39\n",
      "Episode 89\tSingle Agent Score: 35.41\tAverage Score: 21.54\n",
      "Episode 90\tSingle Agent Score: 34.97\tAverage Score: 21.69\n",
      "Episode 91\tSingle Agent Score: 36.37\tAverage Score: 21.85\n",
      "Episode 92\tSingle Agent Score: 34.72\tAverage Score: 21.99\n",
      "Episode 93\tSingle Agent Score: 35.64\tAverage Score: 22.14\n",
      "Episode 94\tSingle Agent Score: 34.42\tAverage Score: 22.27\n",
      "Episode 95\tSingle Agent Score: 35.63\tAverage Score: 22.41\n",
      "Episode 96\tSingle Agent Score: 36.06\tAverage Score: 22.55\n",
      "Episode 97\tSingle Agent Score: 35.61\tAverage Score: 22.69\n",
      "Episode 98\tSingle Agent Score: 36.90\tAverage Score: 22.83\n",
      "Episode 99\tSingle Agent Score: 37.04\tAverage Score: 22.98\n",
      "Episode 100\tSingle Agent Score: 36.87\tAverage Score: 23.12\n",
      "Episode 101\tSingle Agent Score: 36.48\tAverage Score: 23.47\n",
      "Episode 102\tSingle Agent Score: 35.07\tAverage Score: 23.82\n",
      "Episode 103\tSingle Agent Score: 36.00\tAverage Score: 24.17\n",
      "Episode 104\tSingle Agent Score: 36.40\tAverage Score: 24.53\n",
      "Episode 105\tSingle Agent Score: 36.50\tAverage Score: 24.89\n",
      "Episode 106\tSingle Agent Score: 34.93\tAverage Score: 25.23\n",
      "Episode 107\tSingle Agent Score: 35.90\tAverage Score: 25.58\n",
      "Episode 108\tSingle Agent Score: 35.70\tAverage Score: 25.93\n",
      "Episode 109\tSingle Agent Score: 36.78\tAverage Score: 26.29\n",
      "Episode 110\tSingle Agent Score: 36.26\tAverage Score: 26.64\n",
      "Episode 111\tSingle Agent Score: 33.14\tAverage Score: 26.96\n",
      "Episode 112\tSingle Agent Score: 32.81\tAverage Score: 27.27\n",
      "Episode 113\tSingle Agent Score: 34.30\tAverage Score: 27.60\n",
      "Episode 114\tSingle Agent Score: 35.54\tAverage Score: 27.94\n",
      "Episode 115\tSingle Agent Score: 36.45\tAverage Score: 28.28\n",
      "Episode 116\tSingle Agent Score: 35.57\tAverage Score: 28.61\n",
      "Episode 117\tSingle Agent Score: 36.11\tAverage Score: 28.95\n",
      "Episode 118\tSingle Agent Score: 36.00\tAverage Score: 29.27\n",
      "Episode 119\tSingle Agent Score: 36.87\tAverage Score: 29.60\n",
      "Episode 120\tSingle Agent Score: 36.39\tAverage Score: 29.92\n",
      "Episode 121\tSingle Agent Score: 36.55\tAverage Score: 30.23\n",
      "\n",
      "Environment solved in 121 episodes!\tSingle Agent Score: 36.55\tAverage Score: 30.23\n"
     ]
    },
    {
     "data": {
      "image/png": "[encoded data removed]",
      "text/plain": [
       "<Figure size 432x288 with 1 Axes>"
      ]
     },
     "metadata": {
      "needs_background": "light"
     },
     "output_type": "display_data"
    }
   ],
   "source": [
    "def ddpg(n_episodes=1000):\n",
    "    scores_deque = deque(maxlen=window_size)\n",
    "    scores = []\n",
    "    for i_episode in range(1, n_episodes+1):\n",
    "        env_info = env.reset(train_mode=True)[brain_name]\n",
    "        states = env_info.vector_observations  \n",
    "        agent.reset()\n",
    "        score = np.zeros(num_agents)\n",
    "        while True:\n",
    "            actions = agent.act(states)                               # find the best actions for all agent\n",
    "            env_info = env.step(actions)[brain_name]                  # perform these action in the env\n",
    "            next_states = env_info.vector_observations                # get the next states for all agents\n",
    "            rewards = env_info.rewards                                # get all rewards for all agents\n",
    "            dones = env_info.local_done                               # get the status of agent if they are finished\n",
    "            agent.step(states, actions, rewards, next_states, dones)  # update the model\n",
    "            states = next_states\n",
    "            score += rewards                                          # accumulate the rewards in the current episode\n",
    "            if any(dones):\n",
    "                break \n",
    "                \n",
    "        scores_deque.append(np.mean(score))\n",
    "        scores.append(np.mean(score))\n",
    "        \n",
    "        print('\\rEpisode {}\\tSingle Agent Score: {:.2f}\\tAverage Score: {:.2f}'.format(i_episode,np.mean(score), np.mean(scores_deque)))\n",
    "        if i_episode % window_size == 0:\n",
    "            torch.save(agent.actor_local.state_dict(), checkpoint_name + '_actor.pth')\n",
    "            torch.save(agent.critic_local.state_dict(), checkpoint_name + '_critic.pth')\n",
    "        if np.mean(scores_deque) >= 30.0:\n",
    "            print('\\nEnvironment solved in {:d} episodes!\\tSingle Agent Score: {:.2f}\\tAverage Score: {:.2f}'.format(i_episode,np.mean(score), np.mean(scores_deque)))\n",
    "            torch.save(agent.actor_local.state_dict(), checkpoint_name + '_actor.pth')\n",
    "            torch.save(agent.critic_local.state_dict(), checkpoint_name + '_critic.pth')\n",
    "            break\n",
    "            \n",
    "    return scores\n",
    "\n",
    "scores = ddpg()\n",
    "\n",
    "fig = plt.figure()\n",
    "ax = fig.add_subplot(111)\n",
    "plt.plot(np.arange(len(scores)), scores)\n",
    "plt.plot(np.convolve(np.pad(scores, (window_size-1, 0), 'constant'), np.ones(window_size)/window_size, mode='valid'))\n",
    "plt.ylabel('Score')\n",
    "plt.xlabel('Episode #')\n",
    "plt.legend(('Score','Mean'), fontsize='xx-large')\n",
    "plt.show()"
   ]
  },
  {
   "cell_type": "code",
   "execution_count": 9,
   "metadata": {},
   "outputs": [
    {
     "name": "stderr",
     "output_type": "stream",
     "text": [
      "C:\\Users\\ehsan\\anaconda3\\envs\\drlnd\\lib\\site-packages\\torch\\nn\\functional.py:1628: UserWarning: nn.functional.tanh is deprecated. Use torch.tanh instead.\n",
      "  warnings.warn(\"nn.functional.tanh is deprecated. Use torch.tanh instead.\")\n"
     ]
    },
    {
     "name": "stdout",
     "output_type": "stream",
     "text": [
      "Total score (averaged over agents) this episode: 39.46599911786616\n"
     ]
    }
   ],
   "source": [
    "if torch.cuda.is_available():\n",
    "    map_location=lambda storage, loc: storage.cuda()\n",
    "else:\n",
    "    map_location='cpu'\n",
    "\n",
    "agent.actor_local.load_state_dict(torch.load('checkpoint_actor.pth', map_location=map_location))\n",
    "agent.actor_target.load_state_dict(torch.load('checkpoint_actor.pth', map_location=map_location))\n",
    "\n",
    "agent.critic_local.load_state_dict(torch.load('checkpoint_critic.pth', map_location=map_location))\n",
    "agent.critic_target.load_state_dict(torch.load('checkpoint_critic.pth', map_location=map_location))\n",
    "\n",
    "env_info = env.reset(train_mode=False)[brain_name]     # reset the environment    \n",
    "states = env_info.vector_observations                  # get the current state (for each agent)\n",
    "scores = np.zeros(num_agents)                          # initialize the score (for each agent)\n",
    "while True:\n",
    "    actions = agent.act(states, add_noise=False)       # select an action (for each agent) \n",
    "    env_info = env.step(actions)[brain_name]           # send all actions to tne environment\n",
    "    next_states = env_info.vector_observations         # get next state (for each agent)\n",
    "    rewards = env_info.rewards                         # get reward (for each agent)\n",
    "    dones = env_info.local_done                        # see if episode finished\n",
    "    scores += env_info.rewards                         # update the score (for each agent)\n",
    "    states = next_states                               # roll over states to next time step\n",
    "    if np.any(dones):                                  # exit loop if episode finished\n",
    "        break\n",
    "print('Total score (averaged over agents) this episode: {}'.format(np.mean(scores)))"
   ]
  },
  {
   "cell_type": "code",
   "execution_count": 10,
   "metadata": {},
   "outputs": [],
   "source": [
    "env.close()"
   ]
  },
  {
   "cell_type": "code",
   "execution_count": null,
   "metadata": {},
   "outputs": [],
   "source": []
  }
 ],
 "metadata": {
  "kernelspec": {
   "display_name": "drlnd",
   "language": "python",
   "name": "drlnd"
  },
  "language_info": {
   "codemirror_mode": {
    "name": "ipython",
    "version": 3
   },
   "file_extension": ".py",
   "mimetype": "text/x-python",
   "name": "python",
   "nbconvert_exporter": "python",
   "pygments_lexer": "ipython3",
   "version": "3.6.12"
  }
 },
 "nbformat": 4,
 "nbformat_minor": 2
}
